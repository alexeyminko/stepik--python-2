{
 "cells": [
  {
   "cell_type": "markdown",
   "id": "af3a703b",
   "metadata": {},
   "source": [
    "# 5.1"
   ]
  },
  {
   "cell_type": "code",
   "execution_count": 1,
   "id": "ded388fc",
   "metadata": {},
   "outputs": [
    {
     "name": "stdout",
     "output_type": "stream",
     "text": [
      "3\n",
      "1 2 3\n",
      "2.0\n"
     ]
    }
   ],
   "source": [
    "#\n",
    "\n",
    "def calculate_mean(x):\n",
    "    n = len(x)\n",
    "    return sum(x) / n\n",
    "\n",
    "n = int(input())\n",
    "a = list(map(float, input().split()))\n",
    "\n",
    "print(calculate_mean(a))"
   ]
  },
  {
   "cell_type": "code",
   "execution_count": 14,
   "id": "4b27cdff",
   "metadata": {},
   "outputs": [
    {
     "name": "stdout",
     "output_type": "stream",
     "text": [
      "4\n",
      "1 3 5 7\n",
      "4.0\n"
     ]
    }
   ],
   "source": [
    "#\n",
    "\n",
    "def calculate_median(x):\n",
    "    n = len(x)\n",
    "    res = sorted(x)\n",
    "    if n % 2 == 0:\n",
    "        return (res[n // 2] + res[n // 2 - 1]) / 2\n",
    "    else:\n",
    "        return res[n // 2]\n",
    "\n",
    "n = int(input())\n",
    "a = list(map(float, input().split()))\n",
    "\n",
    "print(calculate_median(a))"
   ]
  },
  {
   "cell_type": "code",
   "execution_count": 24,
   "id": "8436db6f",
   "metadata": {},
   "outputs": [
    {
     "name": "stdout",
     "output_type": "stream",
     "text": [
      "9\n",
      "6 2 6 6 8 9 9 9 0\n",
      "6.0\n"
     ]
    }
   ],
   "source": [
    "#\n",
    "\n",
    "def calculate_mode(x):\n",
    "    n = len(x)\n",
    "    number, count = max(x) + 1, 0\n",
    "    for elem in x:\n",
    "        if x.count(elem) > count:\n",
    "            count = x.count(elem)\n",
    "    for elem in x:\n",
    "        if x.count(elem) == count and elem < number:\n",
    "            number = elem\n",
    "    return number\n",
    "\n",
    "n = int(input())\n",
    "a = list(map(float, input().split()))\n",
    "\n",
    "print(calculate_mode(a))"
   ]
  },
  {
   "cell_type": "code",
   "execution_count": 33,
   "id": "061a0e58",
   "metadata": {},
   "outputs": [
    {
     "name": "stdout",
     "output_type": "stream",
     "text": [
      "3\n",
      "mean\n",
      "1 2 3\n",
      "Среднее 1 выборки: 2.0\n",
      "mode\n",
      "1 1 2\n",
      "Мода 2 выборки: 1.0\n",
      "median\n",
      "1 2 8 10\n",
      "Медиана 3 выборки: 5.0\n"
     ]
    }
   ],
   "source": [
    "#\n",
    "\n",
    "def calculate_mean(x):\n",
    "    n = len(x)\n",
    "    return sum(x) / n\n",
    "\n",
    "def calculate_median(x):\n",
    "    n = len(x)\n",
    "    res = sorted(x)\n",
    "    if n % 2 == 0:\n",
    "        return (res[n // 2] + res[n // 2 - 1]) / 2\n",
    "    else:\n",
    "        return res[n // 2]\n",
    "\n",
    "def calculate_mode(x):\n",
    "    n = len(x)\n",
    "    number, count = max(x) + 1, 0\n",
    "    for elem in x:\n",
    "        if x.count(elem) > count:\n",
    "            count = x.count(elem)\n",
    "    for elem in x:\n",
    "        if x.count(elem) == count and elem < number:\n",
    "            number = elem\n",
    "    return number\n",
    "\n",
    "stat = {\n",
    "    'mean': [calculate_mean, 'Среднее'],\n",
    "    'median': [calculate_median, 'Медиана'],\n",
    "    'mode': [calculate_mode, 'Мода']\n",
    "}\n",
    "\n",
    "n = int(input())\n",
    "for i in range(1, n + 1):\n",
    "    name = input()\n",
    "    l = list(map(float, input().split()))\n",
    "    print(f'{stat[name][1]} {i} выборки: {round(stat[name][0](l), 2)}')"
   ]
  },
  {
   "cell_type": "markdown",
   "id": "78b3511c",
   "metadata": {},
   "source": [
    "# 5.2"
   ]
  },
  {
   "cell_type": "markdown",
   "id": "b85ff181",
   "metadata": {},
   "source": [
    "# 5.3"
   ]
  },
  {
   "cell_type": "code",
   "execution_count": null,
   "id": "a43f3093",
   "metadata": {},
   "outputs": [],
   "source": []
  },
  {
   "cell_type": "code",
   "execution_count": null,
   "id": "2a814213",
   "metadata": {},
   "outputs": [],
   "source": []
  },
  {
   "cell_type": "code",
   "execution_count": null,
   "id": "cb536ed4",
   "metadata": {},
   "outputs": [],
   "source": []
  },
  {
   "cell_type": "code",
   "execution_count": null,
   "id": "e7a91e14",
   "metadata": {},
   "outputs": [],
   "source": []
  },
  {
   "cell_type": "code",
   "execution_count": null,
   "id": "d27c88b5",
   "metadata": {},
   "outputs": [],
   "source": []
  },
  {
   "cell_type": "code",
   "execution_count": null,
   "id": "9d7709ef",
   "metadata": {},
   "outputs": [],
   "source": []
  },
  {
   "cell_type": "code",
   "execution_count": null,
   "id": "12c8e253",
   "metadata": {},
   "outputs": [],
   "source": []
  },
  {
   "cell_type": "code",
   "execution_count": null,
   "id": "f6fece2d",
   "metadata": {},
   "outputs": [],
   "source": []
  },
  {
   "cell_type": "code",
   "execution_count": null,
   "id": "38a3a2b1",
   "metadata": {},
   "outputs": [],
   "source": []
  },
  {
   "cell_type": "code",
   "execution_count": null,
   "id": "75558cd0",
   "metadata": {},
   "outputs": [],
   "source": []
  },
  {
   "cell_type": "code",
   "execution_count": null,
   "id": "f9849972",
   "metadata": {},
   "outputs": [],
   "source": []
  },
  {
   "cell_type": "code",
   "execution_count": null,
   "id": "5edc28bd",
   "metadata": {},
   "outputs": [],
   "source": []
  },
  {
   "cell_type": "code",
   "execution_count": null,
   "id": "4479ad47",
   "metadata": {},
   "outputs": [],
   "source": []
  },
  {
   "cell_type": "code",
   "execution_count": null,
   "id": "5334a7e1",
   "metadata": {},
   "outputs": [],
   "source": []
  },
  {
   "cell_type": "code",
   "execution_count": null,
   "id": "6fb72ecf",
   "metadata": {},
   "outputs": [],
   "source": []
  },
  {
   "cell_type": "code",
   "execution_count": null,
   "id": "d96fd461",
   "metadata": {},
   "outputs": [],
   "source": []
  },
  {
   "cell_type": "code",
   "execution_count": null,
   "id": "d46031f5",
   "metadata": {},
   "outputs": [],
   "source": []
  }
 ],
 "metadata": {
  "kernelspec": {
   "display_name": "Python 3 (ipykernel)",
   "language": "python",
   "name": "python3"
  },
  "language_info": {
   "codemirror_mode": {
    "name": "ipython",
    "version": 3
   },
   "file_extension": ".py",
   "mimetype": "text/x-python",
   "name": "python",
   "nbconvert_exporter": "python",
   "pygments_lexer": "ipython3",
   "version": "3.9.7"
  }
 },
 "nbformat": 4,
 "nbformat_minor": 5
}
