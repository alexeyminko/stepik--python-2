{
 "cells": [
  {
   "cell_type": "markdown",
   "id": "af3a703b",
   "metadata": {},
   "source": [
    "# 5.1"
   ]
  },
  {
   "cell_type": "code",
   "execution_count": 1,
   "id": "ded388fc",
   "metadata": {},
   "outputs": [
    {
     "name": "stdout",
     "output_type": "stream",
     "text": [
      "3\n",
      "1 2 3\n",
      "2.0\n"
     ]
    }
   ],
   "source": [
    "#\n",
    "\n",
    "def calculate_mean(x):\n",
    "    n = len(x)\n",
    "    return sum(x) / n\n",
    "\n",
    "n = int(input())\n",
    "a = list(map(float, input().split()))\n",
    "\n",
    "print(calculate_mean(a))"
   ]
  },
  {
   "cell_type": "code",
   "execution_count": 14,
   "id": "4b27cdff",
   "metadata": {},
   "outputs": [
    {
     "name": "stdout",
     "output_type": "stream",
     "text": [
      "4\n",
      "1 3 5 7\n",
      "4.0\n"
     ]
    }
   ],
   "source": [
    "#\n",
    "\n",
    "def calculate_median(x):\n",
    "    n = len(x)\n",
    "    res = sorted(x)\n",
    "    if n % 2 == 0:\n",
    "        return (res[n // 2] + res[n // 2 - 1]) / 2\n",
    "    else:\n",
    "        return res[n // 2]\n",
    "\n",
    "n = int(input())\n",
    "a = list(map(float, input().split()))\n",
    "\n",
    "print(calculate_median(a))"
   ]
  },
  {
   "cell_type": "code",
   "execution_count": 24,
   "id": "8436db6f",
   "metadata": {},
   "outputs": [
    {
     "name": "stdout",
     "output_type": "stream",
     "text": [
      "9\n",
      "6 2 6 6 8 9 9 9 0\n",
      "6.0\n"
     ]
    }
   ],
   "source": [
    "#\n",
    "\n",
    "def calculate_mode(x):\n",
    "    n = len(x)\n",
    "    number, count = max(x) + 1, 0\n",
    "    for elem in x:\n",
    "        if x.count(elem) > count:\n",
    "            count = x.count(elem)\n",
    "    for elem in x:\n",
    "        if x.count(elem) == count and elem < number:\n",
    "            number = elem\n",
    "    return number\n",
    "\n",
    "n = int(input())\n",
    "a = list(map(float, input().split()))\n",
    "\n",
    "print(calculate_mode(a))"
   ]
  },
  {
   "cell_type": "code",
   "execution_count": 33,
   "id": "061a0e58",
   "metadata": {},
   "outputs": [
    {
     "name": "stdout",
     "output_type": "stream",
     "text": [
      "3\n",
      "mean\n",
      "1 2 3\n",
      "Среднее 1 выборки: 2.0\n",
      "mode\n",
      "1 1 2\n",
      "Мода 2 выборки: 1.0\n",
      "median\n",
      "1 2 8 10\n",
      "Медиана 3 выборки: 5.0\n"
     ]
    }
   ],
   "source": [
    "#\n",
    "\n",
    "def calculate_mean(x):\n",
    "    n = len(x)\n",
    "    return sum(x) / n\n",
    "\n",
    "def calculate_median(x):\n",
    "    n = len(x)\n",
    "    res = sorted(x)\n",
    "    if n % 2 == 0:\n",
    "        return (res[n // 2] + res[n // 2 - 1]) / 2\n",
    "    else:\n",
    "        return res[n // 2]\n",
    "\n",
    "def calculate_mode(x):\n",
    "    n = len(x)\n",
    "    number, count = max(x) + 1, 0\n",
    "    for elem in x:\n",
    "        if x.count(elem) > count:\n",
    "            count = x.count(elem)\n",
    "    for elem in x:\n",
    "        if x.count(elem) == count and elem < number:\n",
    "            number = elem\n",
    "    return number\n",
    "\n",
    "stat = {\n",
    "    'mean': [calculate_mean, 'Среднее'],\n",
    "    'median': [calculate_median, 'Медиана'],\n",
    "    'mode': [calculate_mode, 'Мода']\n",
    "}\n",
    "\n",
    "n = int(input())\n",
    "for i in range(1, n + 1):\n",
    "    name = input()\n",
    "    l = list(map(float, input().split()))\n",
    "    print(f'{stat[name][1]} {i} выборки: {round(stat[name][0](l), 2)}')"
   ]
  },
  {
   "cell_type": "markdown",
   "id": "78b3511c",
   "metadata": {},
   "source": [
    "# 5.2"
   ]
  },
  {
   "cell_type": "markdown",
   "id": "b85ff181",
   "metadata": {},
   "source": [
    "# 5.3"
   ]
  },
  {
   "cell_type": "code",
   "execution_count": null,
   "id": "a43f3093",
   "metadata": {},
   "outputs": [],
   "source": [
    "#\n",
    "\n",
    "def read_file(path):\n",
    "    file = open(path)\n",
    "    content = file.read()\n",
    "    return content"
   ]
  },
  {
   "cell_type": "markdown",
   "id": "1c09dc9a",
   "metadata": {},
   "source": [
    "# 5.4"
   ]
  },
  {
   "cell_type": "code",
   "execution_count": null,
   "id": "cb536ed4",
   "metadata": {},
   "outputs": [],
   "source": [
    "#\n",
    "\n",
    "def write_to_file(path, value):\n",
    "    file = open(path, 'w')\n",
    "    file.write(value)"
   ]
  },
  {
   "cell_type": "markdown",
   "id": "14518a13",
   "metadata": {},
   "source": [
    "# 5.5"
   ]
  },
  {
   "cell_type": "code",
   "execution_count": 3,
   "id": "b1d74cfd",
   "metadata": {},
   "outputs": [],
   "source": [
    "#\n",
    "\n",
    "import os\n",
    "os.listdir()\n",
    "os.mkdir('some dir')\n",
    "os.rmdir('some dir/')"
   ]
  },
  {
   "cell_type": "code",
   "execution_count": 43,
   "id": "f780310f",
   "metadata": {},
   "outputs": [],
   "source": [
    "#\n",
    "\n",
    "file = open('1.txt', 'w')\n",
    "file.write('1234567890')\n",
    "file.close()\n",
    "os.remove('1.txt')"
   ]
  }
 ],
 "metadata": {
  "kernelspec": {
   "display_name": "Python 3 (ipykernel)",
   "language": "python",
   "name": "python3"
  },
  "language_info": {
   "codemirror_mode": {
    "name": "ipython",
    "version": 3
   },
   "file_extension": ".py",
   "mimetype": "text/x-python",
   "name": "python",
   "nbconvert_exporter": "python",
   "pygments_lexer": "ipython3",
   "version": "3.9.7"
  }
 },
 "nbformat": 4,
 "nbformat_minor": 5
}
