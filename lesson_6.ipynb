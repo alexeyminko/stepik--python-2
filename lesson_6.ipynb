{
 "cells": [
  {
   "cell_type": "markdown",
   "id": "2ffc3554",
   "metadata": {},
   "source": [
    "# 6.1"
   ]
  },
  {
   "cell_type": "markdown",
   "id": "e2f1c047",
   "metadata": {},
   "source": [
    "# 6.2"
   ]
  },
  {
   "cell_type": "code",
   "execution_count": null,
   "id": "dab008f2",
   "metadata": {},
   "outputs": [],
   "source": [
    "# conda create -n OnlineCourseBot python=3.8.3\n",
    "# conda activate OnlineCourseBot"
   ]
  },
  {
   "cell_type": "markdown",
   "id": "1053d483",
   "metadata": {},
   "source": [
    "# 6.3"
   ]
  },
  {
   "cell_type": "code",
   "execution_count": 11,
   "id": "ef7eea84",
   "metadata": {},
   "outputs": [],
   "source": [
    "#\n",
    "\n",
    "import telebot\n",
    "\n",
    "TOKEN = '5283727922:AAHkwpvT5DSdT3HzsA4L2VYYFyUTBEBTc9s'\n",
    "bot = telebot.TeleBot(TOKEN)\n",
    "\n",
    "@bot.message_handler(commands=['start'])\n",
    "def start_handler(message):\n",
    "    bot.send_message(message.from_user.id, 'Привет, пользователь!')\n",
    "    \n",
    "@bot.message_handler(commands=['help'])\n",
    "def help_handler(message):\n",
    "    bot.send_message(message.from_user.id, 'Меня только что создали, могу ответить только на /start и /help')\n",
    "\n",
    "bot.polling()"
   ]
  },
  {
   "cell_type": "code",
   "execution_count": 12,
   "id": "28e5c5d6",
   "metadata": {},
   "outputs": [
    {
     "ename": "NameError",
     "evalue": "name 'message' is not defined",
     "output_type": "error",
     "traceback": [
      "\u001b[0;31m---------------------------------------------------------------------------\u001b[0m",
      "\u001b[0;31mNameError\u001b[0m                                 Traceback (most recent call last)",
      "\u001b[0;32m/tmp/ipykernel_3623/3097108712.py\u001b[0m in \u001b[0;36m<module>\u001b[0;34m\u001b[0m\n\u001b[1;32m      1\u001b[0m \u001b[0;32mimport\u001b[0m \u001b[0mdatetime\u001b[0m\u001b[0;34m\u001b[0m\u001b[0;34m\u001b[0m\u001b[0m\n\u001b[1;32m      2\u001b[0m \u001b[0;34m\u001b[0m\u001b[0m\n\u001b[0;32m----> 3\u001b[0;31m \u001b[0mdt\u001b[0m \u001b[0;34m=\u001b[0m \u001b[0mdatetime\u001b[0m\u001b[0;34m.\u001b[0m\u001b[0mdatetime\u001b[0m\u001b[0;34m.\u001b[0m\u001b[0mfromtimestamp\u001b[0m\u001b[0;34m(\u001b[0m\u001b[0mmessage\u001b[0m\u001b[0;34m.\u001b[0m\u001b[0mdate\u001b[0m\u001b[0;34m)\u001b[0m \u001b[0;31m# message.date: 1598198618\u001b[0m\u001b[0;34m\u001b[0m\u001b[0;34m\u001b[0m\u001b[0m\n\u001b[0m\u001b[1;32m      4\u001b[0m \u001b[0;31m# dt = datetime.datetime(2020, 8, 23, 19, 3, 38)\u001b[0m\u001b[0;34m\u001b[0m\u001b[0;34m\u001b[0m\u001b[0m\n\u001b[1;32m      5\u001b[0m \u001b[0;31m# print(dt) # -> 2020-08-23 19:03:38\u001b[0m\u001b[0;34m\u001b[0m\u001b[0;34m\u001b[0m\u001b[0m\n",
      "\u001b[0;31mNameError\u001b[0m: name 'message' is not defined"
     ]
    }
   ],
   "source": [
    "import datetime\n",
    "\n",
    "dt = datetime.datetime.fromtimestamp(message.date) # message.date: 1598198618 \n",
    "# dt = datetime.datetime(2020, 8, 23, 19, 3, 38) \n",
    "# print(dt) # -> 2020-08-23 19:03:38"
   ]
  },
  {
   "cell_type": "code",
   "execution_count": null,
   "id": "e462b3de",
   "metadata": {},
   "outputs": [],
   "source": [
    "dt"
   ]
  },
  {
   "cell_type": "code",
   "execution_count": null,
   "id": "256e1f1f",
   "metadata": {},
   "outputs": [],
   "source": []
  }
 ],
 "metadata": {
  "kernelspec": {
   "display_name": "Python 3 (ipykernel)",
   "language": "python",
   "name": "python3"
  },
  "language_info": {
   "codemirror_mode": {
    "name": "ipython",
    "version": 3
   },
   "file_extension": ".py",
   "mimetype": "text/x-python",
   "name": "python",
   "nbconvert_exporter": "python",
   "pygments_lexer": "ipython3",
   "version": "3.9.7"
  }
 },
 "nbformat": 4,
 "nbformat_minor": 5
}
