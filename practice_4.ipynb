{
 "cells": [
  {
   "cell_type": "code",
   "execution_count": 1,
   "id": "f010e9b0",
   "metadata": {},
   "outputs": [
    {
     "name": "stdout",
     "output_type": "stream",
     "text": [
      "5\n",
      "1 2 3 4 5\n",
      "1 2 3 4 5\n",
      "2 4 6 8 10\n"
     ]
    }
   ],
   "source": [
    "n = int(input())\n",
    "vec_1 = [int(i) for i in input().split()]\n",
    "vec_2 = [int(i) for i in input().split()]\n",
    "res = [k + v for k, v in zip(vec_1, vec_2)]\n",
    "print(*res)"
   ]
  },
  {
   "cell_type": "code",
   "execution_count": 2,
   "id": "1e6f3043",
   "metadata": {},
   "outputs": [
    {
     "name": "stdout",
     "output_type": "stream",
     "text": [
      "4 1 2 8 10\n",
      "14 9 10 28 42\n"
     ]
    }
   ],
   "source": [
    "num_list = [int(i) for i in input().split()]\n",
    "for i in range(0, len(num_list)):\n",
    "    print(num_list[i] + (num_list[i - 1] * num_list[i + 1 - len(num_list)]), end=' ')"
   ]
  },
  {
   "cell_type": "code",
   "execution_count": 8,
   "id": "9e09df59",
   "metadata": {},
   "outputs": [
    {
     "name": "stdout",
     "output_type": "stream",
     "text": [
      "1 2 3 4 5 6\n",
      "2 4 6\n"
     ]
    }
   ],
   "source": [
    "num_list = [int(i) for i in input().split()]\n",
    "print(*num_list[1::2])"
   ]
  },
  {
   "cell_type": "code",
   "execution_count": 20,
   "id": "7b155791",
   "metadata": {},
   "outputs": [
    {
     "name": "stdout",
     "output_type": "stream",
     "text": [
      "5\n",
      "1 0 1 0 1\n",
      "0 1 0 2 0\n",
      "1 0 1 0 1\n",
      "0 3 0 4 0\n",
      "1 0 1 0 1\n",
      "[[1, 0, 1, 0, 1], [0, 1, 0, 2, 0], [1, 0, 1, 0, 1], [0, 3, 0, 4, 0], [1, 0, 1, 0, 1]]\n"
     ]
    }
   ],
   "source": [
    "n = int(input())\n",
    "res = [[int(i) for i in input().split()] for i in range(n)]\n",
    "print(res)"
   ]
  },
  {
   "cell_type": "code",
   "execution_count": 26,
   "id": "2e8490de",
   "metadata": {},
   "outputs": [
    {
     "name": "stdout",
     "output_type": "stream",
     "text": [
      "1 2\n",
      "3 4\n"
     ]
    }
   ],
   "source": [
    "n = int(input())\n",
    "res = [[int(i) for i in input().split()] for i in range(n)]\n",
    "resnew = []\n",
    "for elem in res:\n",
    "    if sum(elem[1::2]) != 0:\n",
    "        resnew.append(elem[1::2])\n",
    "for elem in resnew:\n",
    "    print(*elem)"
   ]
  },
  {
   "cell_type": "code",
   "execution_count": 27,
   "id": "49bed8c2",
   "metadata": {},
   "outputs": [
    {
     "name": "stdout",
     "output_type": "stream",
     "text": [
      "5\n",
      "1 0 1 0 1\n",
      "0 1 0 2 0\n",
      "1 2\n",
      "1 0 1 0 1\n",
      "0 3 0 4 0\n",
      "3 4\n",
      "1 0 1 0 1\n"
     ]
    }
   ],
   "source": [
    "n=int(input())\n",
    "\n",
    "for i in range(n):\n",
    "    x=input().split()\n",
    "    \n",
    "    if i % 2 ==1:\n",
    "        for j in range(len(x)):\n",
    "            if j % 2==1 and (j!=len(x)-2):\n",
    "                print((x[j]), end=' ')\n",
    "            if j % 2==1 and (j==len(x)-2):\n",
    "                print(x[j])"
   ]
  },
  {
   "cell_type": "code",
   "execution_count": null,
   "id": "d1e3d243",
   "metadata": {},
   "outputs": [],
   "source": [
    "5\n",
    "1 0 1 0 1\n",
    "0 1 0 2 0\n",
    "1 0 1 0 1\n",
    "0 3 0 4 0\n",
    "1 0 1 0 1\n",
    "\n",
    "Sample Output:\n",
    "\n",
    "1 2\n",
    "3 4\n"
   ]
  }
 ],
 "metadata": {
  "kernelspec": {
   "display_name": "Python 3 (ipykernel)",
   "language": "python",
   "name": "python3"
  },
  "language_info": {
   "codemirror_mode": {
    "name": "ipython",
    "version": 3
   },
   "file_extension": ".py",
   "mimetype": "text/x-python",
   "name": "python",
   "nbconvert_exporter": "python",
   "pygments_lexer": "ipython3",
   "version": "3.9.7"
  }
 },
 "nbformat": 4,
 "nbformat_minor": 5
}
