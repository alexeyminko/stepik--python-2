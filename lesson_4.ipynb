{
 "cells": [
  {
   "cell_type": "code",
   "execution_count": 1,
   "id": "f010e9b0",
   "metadata": {},
   "outputs": [
    {
     "name": "stdout",
     "output_type": "stream",
     "text": [
      "5\n",
      "1 2 3 4 5\n",
      "1 2 3 4 5\n",
      "2 4 6 8 10\n"
     ]
    }
   ],
   "source": [
    "n = int(input())\n",
    "vec_1 = [int(i) for i in input().split()]\n",
    "vec_2 = [int(i) for i in input().split()]\n",
    "res = [k + v for k, v in zip(vec_1, vec_2)]\n",
    "print(*res)"
   ]
  },
  {
   "cell_type": "code",
   "execution_count": 2,
   "id": "1e6f3043",
   "metadata": {},
   "outputs": [
    {
     "name": "stdout",
     "output_type": "stream",
     "text": [
      "4 1 2 8 10\n",
      "14 9 10 28 42\n"
     ]
    }
   ],
   "source": [
    "num_list = [int(i) for i in input().split()]\n",
    "for i in range(0, len(num_list)):\n",
    "    print(num_list[i] + (num_list[i - 1] * num_list[i + 1 - len(num_list)]), end=' ')"
   ]
  },
  {
   "cell_type": "code",
   "execution_count": 8,
   "id": "9e09df59",
   "metadata": {},
   "outputs": [
    {
     "name": "stdout",
     "output_type": "stream",
     "text": [
      "1 2 3 4 5 6\n",
      "2 4 6\n"
     ]
    }
   ],
   "source": [
    "num_list = [int(i) for i in input().split()]\n",
    "print(*num_list[1::2])"
   ]
  },
  {
   "cell_type": "code",
   "execution_count": 20,
   "id": "7b155791",
   "metadata": {},
   "outputs": [
    {
     "name": "stdout",
     "output_type": "stream",
     "text": [
      "5\n",
      "1 0 1 0 1\n",
      "0 1 0 2 0\n",
      "1 0 1 0 1\n",
      "0 3 0 4 0\n",
      "1 0 1 0 1\n",
      "[[1, 0, 1, 0, 1], [0, 1, 0, 2, 0], [1, 0, 1, 0, 1], [0, 3, 0, 4, 0], [1, 0, 1, 0, 1]]\n"
     ]
    }
   ],
   "source": [
    "n = int(input())\n",
    "res = [[int(i) for i in input().split()] for i in range(n)]\n",
    "print(res)"
   ]
  },
  {
   "cell_type": "code",
   "execution_count": 3,
   "id": "2e8490de",
   "metadata": {},
   "outputs": [
    {
     "name": "stdout",
     "output_type": "stream",
     "text": [
      "5\n",
      "1 0 1 0 1\n",
      "0 1 0 2 0\n",
      "1 0 1 0 1\n",
      "0 3 0 4 0\n",
      "1 0 1 0 1\n",
      "1 2\n",
      "3 4\n"
     ]
    }
   ],
   "source": [
    "n = int(input())\n",
    "res = [[int(i) for i in input().split()] for i in range(n)]\n",
    "b = []\n",
    "for i in range(n):\n",
    "    c = []\n",
    "    for j in range(n):\n",
    "        if i % 2 == 1 and j % 2 == 1:\n",
    "            c.append(res[i][j])\n",
    "    if len(c) > 0:\n",
    "        b.append(c) \n",
    "for elem in b:\n",
    "    print(*elem)"
   ]
  },
  {
   "cell_type": "markdown",
   "id": "08c83dfd",
   "metadata": {},
   "source": [
    "# 4.6"
   ]
  },
  {
   "cell_type": "code",
   "execution_count": null,
   "id": "0e81e86d",
   "metadata": {},
   "outputs": [],
   "source": [
    "#\n",
    "\n",
    "n = int(input())\n",
    "res_l = [input() for i in range(n)]\n",
    "res_d = {}\n",
    "for elem in res_l:\n",
    "    res_d[elem] = res_d.get(elem, 0) + 1\n",
    "for elem in sorted(res_d):\n",
    "    print(f'{elem}: {res_d[elem]}')    "
   ]
  },
  {
   "cell_type": "markdown",
   "id": "d7056b02",
   "metadata": {},
   "source": [
    "# 4.7"
   ]
  },
  {
   "cell_type": "code",
   "execution_count": 16,
   "id": "fc62440e",
   "metadata": {},
   "outputs": [
    {
     "name": "stdout",
     "output_type": "stream",
     "text": [
      "Молоко, Ржаной хлеб, Зубная паста, Чай\n",
      "3\n",
      "Морковь, Картошка, Сметана\n",
      "Молоко, Тунец, Говядина, Свинина\n",
      "Ржаной хлеб, Зубная паст\n",
      "NO\n"
     ]
    }
   ],
   "source": [
    "#\n",
    "\n",
    "control = set(input().split(', '))\n",
    "n = int(input())\n",
    "for i in range(n):\n",
    "    res = set(input().split(', '))\n",
    "    control -= res\n",
    "print('YES' if len(control) == 0 else 'NO')"
   ]
  }
 ],
 "metadata": {
  "kernelspec": {
   "display_name": "Python 3 (ipykernel)",
   "language": "python",
   "name": "python3"
  },
  "language_info": {
   "codemirror_mode": {
    "name": "ipython",
    "version": 3
   },
   "file_extension": ".py",
   "mimetype": "text/x-python",
   "name": "python",
   "nbconvert_exporter": "python",
   "pygments_lexer": "ipython3",
   "version": "3.9.7"
  }
 },
 "nbformat": 4,
 "nbformat_minor": 5
}
